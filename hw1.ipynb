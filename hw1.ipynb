{
  "nbformat": 4,
  "nbformat_minor": 0,
  "metadata": {
    "colab": {
      "provenance": []
    },
    "kernelspec": {
      "name": "python3",
      "display_name": "Python 3"
    },
    "language_info": {
      "name": "python"
    }
  },
  "cells": [
    {
      "cell_type": "code",
      "execution_count": 1,
      "metadata": {
        "id": "LNffSt8XqCcX"
      },
      "outputs": [],
      "source": [
        "import numpy as np\n"
      ]
    },
    {
      "cell_type": "markdown",
      "source": [
        "# Завдання 1: Одновимірний масив"
      ],
      "metadata": {
        "id": "wru8EBlaqOWv"
      }
    },
    {
      "cell_type": "code",
      "source": [
        "vector = np.arange(1, 11)\n",
        "print(f\"Одновимірний масив: {vector}\")"
      ],
      "metadata": {
        "colab": {
          "base_uri": "https://localhost:8080/"
        },
        "id": "kvvdFDVsqRLj",
        "outputId": "99e33094-27d8-4e1c-d86c-c0c1835c8b62"
      },
      "execution_count": 3,
      "outputs": [
        {
          "output_type": "stream",
          "name": "stdout",
          "text": [
            "Одновимірний масив[ 1  2  3  4  5  6  7  8  9 10]:\n"
          ]
        }
      ]
    },
    {
      "cell_type": "markdown",
      "source": [
        "# Завдання 2: Двовимірний масив 3x3 заповнений нулями"
      ],
      "metadata": {
        "id": "ubqryOZFqfah"
      }
    },
    {
      "cell_type": "code",
      "source": [
        "matrix_3x3 = np.zeros((3, 3))\n",
        "print(\"Двовимірний масив 3x3, заповнений нулями:\\n\", matrix_3x3)"
      ],
      "metadata": {
        "colab": {
          "base_uri": "https://localhost:8080/"
        },
        "id": "yYVSsgBgqgop",
        "outputId": "1340aad2-ddb6-46a2-83de-eaae9b837c0e"
      },
      "execution_count": 4,
      "outputs": [
        {
          "output_type": "stream",
          "name": "stdout",
          "text": [
            "Двовимірний масив 3x3, заповнений нулями:\n",
            " [[0. 0. 0.]\n",
            " [0. 0. 0.]\n",
            " [0. 0. 0.]]\n"
          ]
        }
      ]
    },
    {
      "cell_type": "markdown",
      "source": [
        "# Завдання 3: Масив 5x5, заповнений випадковими цілими числами"
      ],
      "metadata": {
        "id": "vd_Sa08dqjRc"
      }
    },
    {
      "cell_type": "code",
      "source": [
        "matrix_5x5 = np.random.randint(1, 11, size=(5, 5))\n",
        "print(\"Масив 5x5, заповнений випадковими цілими числами:\\n\", matrix_5x5)"
      ],
      "metadata": {
        "colab": {
          "base_uri": "https://localhost:8080/"
        },
        "id": "4niGypXjqlOM",
        "outputId": "44f113cf-afbf-474d-dfd5-da6cacd26879"
      },
      "execution_count": 5,
      "outputs": [
        {
          "output_type": "stream",
          "name": "stdout",
          "text": [
            "Масив 5x5, заповнений випадковими цілими числами:\n",
            " [[ 2  2  9  8  2]\n",
            " [ 9  5  2  8  2]\n",
            " [ 8  7  2  1  7]\n",
            " [ 9  5  2  6 10]\n",
            " [ 9  9  3  7  9]]\n"
          ]
        }
      ]
    },
    {
      "cell_type": "markdown",
      "source": [
        "### Завдання 4: Масив 4x4, заповнений випадковими дійсними числами"
      ],
      "metadata": {
        "id": "LQB7MisQqvZ_"
      }
    },
    {
      "cell_type": "code",
      "source": [
        "matrix_4x4 = np.random.random((4, 4))\n",
        "print(\"Масив 4x4, заповнений випадковими дійсними числами:\\n\", matrix_4x4)"
      ],
      "metadata": {
        "colab": {
          "base_uri": "https://localhost:8080/"
        },
        "id": "OYlstzO-q0aK",
        "outputId": "4f07e28d-f56b-4120-8db1-1edbc92568ba"
      },
      "execution_count": 6,
      "outputs": [
        {
          "output_type": "stream",
          "name": "stdout",
          "text": [
            "Масив 4x4, заповнений випадковими дійсними числами:\n",
            " [[0.99684071 0.898288   0.10603898 0.32574238]\n",
            " [0.49841951 0.55686897 0.83697287 0.20134633]\n",
            " [0.42407746 0.99108409 0.63939418 0.20956552]\n",
            " [0.91774603 0.74062432 0.69841476 0.35405341]]\n"
          ]
        }
      ]
    },
    {
      "cell_type": "markdown",
      "source": [
        "# Завдання 5: Поелементні операції на одновимірних масивах"
      ],
      "metadata": {
        "id": "bydn7c1Fq-NM"
      }
    },
    {
      "cell_type": "code",
      "source": [
        "vector_a = np.random.randint(1, 11, size=5)\n",
        "vector_b = np.random.randint(1, 11, size=5)\n",
        "print(\"Вектор A:\", vector_a)\n",
        "print(\"Вектор B:\", vector_b)\n",
        "print(\"Додавання:\", vector_a + vector_b)\n",
        "print(\"Віднімання:\", vector_a - vector_b)\n",
        "print(\"Множення:\", vector_a * vector_b)"
      ],
      "metadata": {
        "colab": {
          "base_uri": "https://localhost:8080/"
        },
        "id": "mVwT9NeTq_uj",
        "outputId": "f4892de1-4413-4a73-deb4-2cde4dff65d1"
      },
      "execution_count": 7,
      "outputs": [
        {
          "output_type": "stream",
          "name": "stdout",
          "text": [
            "Вектор A: [10 10  4  1  3]\n",
            "Вектор B: [3 8 5 6 6]\n",
            "Додавання: [13 18  9  7  9]\n",
            "Віднімання: [ 7  2 -1 -5 -3]\n",
            "Множення: [30 80 20  6 18]\n"
          ]
        }
      ]
    },
    {
      "cell_type": "markdown",
      "source": [
        "# Завдання 6: Скалярний добуток векторів"
      ],
      "metadata": {
        "id": "WhW-OXkXrHRb"
      }
    },
    {
      "cell_type": "code",
      "source": [
        "vector_c = np.random.random(7)\n",
        "vector_d = np.random.random(7)\n",
        "scalar_product = np.dot(vector_c, vector_d)\n",
        "print(\"Скалярний добуток векторів C і D:\", scalar_product)"
      ],
      "metadata": {
        "colab": {
          "base_uri": "https://localhost:8080/"
        },
        "id": "L5MSFyijrIvP",
        "outputId": "20be43ec-b377-47b9-ec59-fa3853817370"
      },
      "execution_count": 8,
      "outputs": [
        {
          "output_type": "stream",
          "name": "stdout",
          "text": [
            "Скалярний добуток векторів C і D: 1.7938666242418062\n"
          ]
        }
      ]
    },
    {
      "cell_type": "markdown",
      "source": [
        "# Завдання 7: Множення матриць 2x2 і 2x3"
      ],
      "metadata": {
        "id": "GjtEHtVNrOVV"
      }
    },
    {
      "cell_type": "code",
      "source": [
        "matrix_2x2 = np.random.randint(1, 11, size=(2, 2))\n",
        "matrix_2x3 = np.random.randint(1, 11, size=(2, 3))\n",
        "matrix_product = np.dot(matrix_2x2, matrix_2x3)\n",
        "print(\"Множення матриць 2x2 і 2x3:\\n\", matrix_product)"
      ],
      "metadata": {
        "colab": {
          "base_uri": "https://localhost:8080/"
        },
        "id": "ePuXvi_yrQCP",
        "outputId": "f444ef08-992e-4ef9-d36c-dae6b32d3df0"
      },
      "execution_count": 9,
      "outputs": [
        {
          "output_type": "stream",
          "name": "stdout",
          "text": [
            "Множення матриць 2x2 і 2x3:\n",
            " [[50 45 11]\n",
            " [90 85 19]]\n"
          ]
        }
      ]
    },
    {
      "cell_type": "markdown",
      "source": [
        "# Завдання 8: Обернена матриця 3x3"
      ],
      "metadata": {
        "id": "gR93o5nXrTIb"
      }
    },
    {
      "cell_type": "code",
      "source": [
        "matrix_3x3_random = np.random.randint(1, 11, size=(3, 3))\n",
        "inverse_matrix = np.linalg.inv(matrix_3x3_random)\n",
        "print(\"Обернена матриця 3x3:\\n\", inverse_matrix)"
      ],
      "metadata": {
        "colab": {
          "base_uri": "https://localhost:8080/"
        },
        "id": "0Ivlf8rdrVS-",
        "outputId": "ad59da0b-27ee-4290-8d5c-29c1d137493a"
      },
      "execution_count": 10,
      "outputs": [
        {
          "output_type": "stream",
          "name": "stdout",
          "text": [
            "Обернена матриця 3x3:\n",
            " [[ 0.29007634  0.04580153 -0.28244275]\n",
            " [ 0.09160305 -0.03816794  0.06870229]\n",
            " [-0.51145038  0.12977099  0.36641221]]\n"
          ]
        }
      ]
    },
    {
      "cell_type": "markdown",
      "source": [
        "# Завдання 9: Транспонована матриця 4x4"
      ],
      "metadata": {
        "id": "VkJOReeYrX86"
      }
    },
    {
      "cell_type": "code",
      "source": [
        "matrix_4x4_random = np.random.random((4, 4))\n",
        "transposed_matrix = matrix_4x4_random.T\n",
        "print(\"Транспонована матриця 4x4:\\n\", transposed_matrix)"
      ],
      "metadata": {
        "colab": {
          "base_uri": "https://localhost:8080/"
        },
        "id": "s9Hyr2lSrZeP",
        "outputId": "be1cc7d3-567f-4255-bd37-59120b6ddee9"
      },
      "execution_count": 11,
      "outputs": [
        {
          "output_type": "stream",
          "name": "stdout",
          "text": [
            "Транспонована матриця 4x4:\n",
            " [[0.37113287 0.40682913 0.29545777 0.60231958]\n",
            " [0.06287302 0.03639402 0.89091573 0.41200124]\n",
            " [0.0431716  0.64508314 0.11051928 0.00688852]\n",
            " [0.6291721  0.92636764 0.63316396 0.0791664 ]]\n"
          ]
        }
      ]
    },
    {
      "cell_type": "markdown",
      "source": [
        "# Завдання 10: Множення матриці 3x4 на вектор"
      ],
      "metadata": {
        "id": "3PLjKAw0rbjC"
      }
    },
    {
      "cell_type": "code",
      "source": [
        "matrix_3x4 = np.random.randint(1, 11, size=(3, 4))\n",
        "vector_4 = np.random.randint(1, 11, size=4)\n",
        "matrix_vector_product = np.dot(matrix_3x4, vector_4)\n",
        "print(\"Множення матриці 3x4 на вектор 4:\\n\", matrix_vector_product)"
      ],
      "metadata": {
        "colab": {
          "base_uri": "https://localhost:8080/"
        },
        "id": "yBfjLxlMrc10",
        "outputId": "838acd91-94b2-491e-97b3-7cd6e77dc64f"
      },
      "execution_count": 12,
      "outputs": [
        {
          "output_type": "stream",
          "name": "stdout",
          "text": [
            "Множення матриці 3x4 на вектор 4:\n",
            " [ 89 101 136]\n"
          ]
        }
      ]
    },
    {
      "cell_type": "markdown",
      "source": [
        "# Завдання 11: Множення матриці 2x3 на вектор"
      ],
      "metadata": {
        "id": "qffzIG19rg64"
      }
    },
    {
      "cell_type": "code",
      "source": [
        "matrix_2x3_float = np.random.random((2, 3))\n",
        "vector_3_float = np.random.random(3)\n",
        "matrix_vector_product_float = np.dot(matrix_2x3_float, vector_3_float)\n",
        "print(\"Множення матриці 2x3 на вектор 3 (дійсні числа):\\n\", matrix_vector_product_float)"
      ],
      "metadata": {
        "colab": {
          "base_uri": "https://localhost:8080/"
        },
        "id": "66cQJbblrib-",
        "outputId": "bd965e0a-e039-4945-faa8-754019de4fbe"
      },
      "execution_count": 13,
      "outputs": [
        {
          "output_type": "stream",
          "name": "stdout",
          "text": [
            "Множення матриці 2x3 на вектор 3 (дійсні числа):\n",
            " [1.18357102 1.15435339]\n"
          ]
        }
      ]
    },
    {
      "cell_type": "markdown",
      "source": [
        "# Завдання 12: Поелементне множення матриць 2x2"
      ],
      "metadata": {
        "id": "T9F_9Rh2rkj4"
      }
    },
    {
      "cell_type": "code",
      "source": [
        "matrix_2x2_a = np.random.randint(1, 11, size=(2, 2))\n",
        "matrix_2x2_b = np.random.randint(1, 11, size=(2, 2))\n",
        "elementwise_multiplication = matrix_2x2_a * matrix_2x2_b\n",
        "print(\"Поелементне множення матриць 2x2:\\n\", elementwise_multiplication)"
      ],
      "metadata": {
        "colab": {
          "base_uri": "https://localhost:8080/"
        },
        "id": "YzsNHLHkrl8C",
        "outputId": "3855d0af-e2f0-4729-8e5a-5d8f0d302d36"
      },
      "execution_count": 14,
      "outputs": [
        {
          "output_type": "stream",
          "name": "stdout",
          "text": [
            "Поелементне множення матриць 2x2:\n",
            " [[ 8 20]\n",
            " [60  6]]\n"
          ]
        }
      ]
    },
    {
      "cell_type": "markdown",
      "source": [
        "# Завдання 13: Множення матриць 2x2"
      ],
      "metadata": {
        "id": "atzQp9rdrn-r"
      }
    },
    {
      "cell_type": "code",
      "source": [
        "matrix_2x2_c = np.random.randint(1, 11, size=(2, 2))\n",
        "matrix_2x2_d = np.random.randint(1, 11, size=(2, 2))\n",
        "matrix_product_2x2 = np.dot(matrix_2x2_c, matrix_2x2_d)\n",
        "print(\"Множення матриць 2x2:\\n\", matrix_product_2x2)\n"
      ],
      "metadata": {
        "colab": {
          "base_uri": "https://localhost:8080/"
        },
        "id": "F1Jp4fVvrpW4",
        "outputId": "99f652ef-212c-45af-86c0-f59a52576da9"
      },
      "execution_count": 15,
      "outputs": [
        {
          "output_type": "stream",
          "name": "stdout",
          "text": [
            "Множення матриць 2x2:\n",
            " [[60 42]\n",
            " [63 54]]\n"
          ]
        }
      ]
    },
    {
      "cell_type": "markdown",
      "source": [
        "# Завдання 14: Сума елементів матриці 5x5"
      ],
      "metadata": {
        "id": "BXwsi15OrsYI"
      }
    },
    {
      "cell_type": "code",
      "source": [
        "matrix_5x5_large = np.random.randint(1, 101, size=(5, 5))\n",
        "sum_elements = np.sum(matrix_5x5_large)\n",
        "print(\"Сума елементів матриці 5x5:\", sum_elements)"
      ],
      "metadata": {
        "colab": {
          "base_uri": "https://localhost:8080/"
        },
        "id": "c15ValEJruHd",
        "outputId": "6ee8ed97-1216-4497-f496-d89066ba0182"
      },
      "execution_count": 16,
      "outputs": [
        {
          "output_type": "stream",
          "name": "stdout",
          "text": [
            "Сума елементів матриці 5x5: 1336\n"
          ]
        }
      ]
    },
    {
      "cell_type": "markdown",
      "source": [
        "# Завдання 15: Різниця матриць 4x4"
      ],
      "metadata": {
        "id": "kY6YyhlorzUe"
      }
    },
    {
      "cell_type": "code",
      "source": [
        "matrix_4x4_a = np.random.randint(1, 11, size=(4, 4))\n",
        "matrix_4x4_b = np.random.randint(1, 11, size=(4, 4))\n",
        "difference_matrix = matrix_4x4_a - matrix_4x4_b\n",
        "print(\"Різниця матриць 4x4:\\n\", difference_matrix)"
      ],
      "metadata": {
        "colab": {
          "base_uri": "https://localhost:8080/"
        },
        "id": "L_HUgGsorzxw",
        "outputId": "0d94ea5f-6a24-496b-ab40-41046d425e01"
      },
      "execution_count": 17,
      "outputs": [
        {
          "output_type": "stream",
          "name": "stdout",
          "text": [
            "Різниця матриць 4x4:\n",
            " [[ 1 -1 -3 -6]\n",
            " [ 1  2  6  2]\n",
            " [ 7 -5  5 -1]\n",
            " [-6  0 -1 -1]]\n"
          ]
        }
      ]
    },
    {
      "cell_type": "markdown",
      "source": [
        "# Завдання 16: Вектор-стовпчик з сумами елементів рядків матриці 3x3"
      ],
      "metadata": {
        "id": "TDokpp-Pr1i7"
      }
    },
    {
      "cell_type": "code",
      "source": [
        "matrix_3x3_sum = np.random.random((3, 3))\n",
        "column_vector_sum = np.sum(matrix_3x3_sum, axis=1).reshape(-1, 1)\n",
        "print(\"Вектор-стовпчик з сумами елементів рядків матриці 3x3:\\n\", column_vector_sum)"
      ],
      "metadata": {
        "colab": {
          "base_uri": "https://localhost:8080/"
        },
        "id": "zbCKmryHr25w",
        "outputId": "c5e7c955-edea-492b-c42b-f4a96a39ac73"
      },
      "execution_count": 18,
      "outputs": [
        {
          "output_type": "stream",
          "name": "stdout",
          "text": [
            "Вектор-стовпчик з сумами елементів рядків матриці 3x3:\n",
            " [[1.06231641]\n",
            " [0.54661436]\n",
            " [1.77777483]]\n"
          ]
        }
      ]
    },
    {
      "cell_type": "markdown",
      "source": [
        "# Завдання 17: Квадрат матриці 3x4"
      ],
      "metadata": {
        "id": "wtfYTaVbr47s"
      }
    },
    {
      "cell_type": "code",
      "source": [
        "matrix_3x4_int = np.random.randint(1, 11, size=(3, 4))\n",
        "squared_matrix = np.square(matrix_3x4_int)\n",
        "print(\"Матриця з квадратами чисел 3x4:\\n\", squared_matrix)"
      ],
      "metadata": {
        "colab": {
          "base_uri": "https://localhost:8080/"
        },
        "id": "H1mxOu3gr6c7",
        "outputId": "358d1195-9e20-46b7-af47-ab7e656b9033"
      },
      "execution_count": 19,
      "outputs": [
        {
          "output_type": "stream",
          "name": "stdout",
          "text": [
            "Матриця з квадратами чисел 3x4:\n",
            " [[ 25  16   1   9]\n",
            " [ 64   9 100  36]\n",
            " [ 49 100   1  64]]\n"
          ]
        }
      ]
    },
    {
      "cell_type": "markdown",
      "source": [
        "# Завдання 18: Квадратні корені елементів вектора"
      ],
      "metadata": {
        "id": "jCLlIg-hr8Lc"
      }
    },
    {
      "cell_type": "code",
      "source": [
        "vector_4_large = np.random.randint(1, 51, size=4)\n",
        "sqrt_vector = np.sqrt(vector_4_large)\n",
        "print(\"Квадратні корені елементів вектора:\\n\", sqrt_vector)"
      ],
      "metadata": {
        "colab": {
          "base_uri": "https://localhost:8080/"
        },
        "id": "bYWvGfPCr9tu",
        "outputId": "73848b24-443d-4540-cb4b-a0f8648e026b"
      },
      "execution_count": 20,
      "outputs": [
        {
          "output_type": "stream",
          "name": "stdout",
          "text": [
            "Квадратні корені елементів вектора:\n",
            " [3.         5.56776436 5.29150262 2.23606798]\n"
          ]
        }
      ]
    },
    {
      "cell_type": "markdown",
      "source": [
        "# Додаткові завдання:"
      ],
      "metadata": {
        "id": "1TpgEy2JsDJg"
      }
    },
    {
      "cell_type": "markdown",
      "source": [
        "# Додаткове завдання 1: Замінити непарні числа на -1"
      ],
      "metadata": {
        "id": "UV5FgYYZsJ0Q"
      }
    },
    {
      "cell_type": "code",
      "source": [
        "arr = np.array([0, 1, 2, 3, 4, 5, 6, 7, 8, 9])\n",
        "arr[arr % 2 != 0] = -1\n",
        "print(\"Замінені непарні числа в arr на -1:\", arr)"
      ],
      "metadata": {
        "colab": {
          "base_uri": "https://localhost:8080/"
        },
        "id": "NrZYw5PusFmC",
        "outputId": "dbff0ddd-3ac8-4a18-a3af-4f15c784ef39"
      },
      "execution_count": 21,
      "outputs": [
        {
          "output_type": "stream",
          "name": "stdout",
          "text": [
            "Замінені непарні числа в arr на -1: [ 0 -1  2 -1  4 -1  6 -1  8 -1]\n"
          ]
        }
      ]
    },
    {
      "cell_type": "markdown",
      "source": [
        "# Додаткове завдання 2: Перетворення 1D-масиву на 2D-масив"
      ],
      "metadata": {
        "id": "TpDIg5wNsWn0"
      }
    },
    {
      "cell_type": "code",
      "source": [
        "arr_1d = np.arange(10)\n",
        "arr_2d = arr_1d.reshape((2, -1))\n",
        "print(\"Перетворений 1D-масив на 2D-масив:\\n\", arr_2d)"
      ],
      "metadata": {
        "colab": {
          "base_uri": "https://localhost:8080/"
        },
        "id": "NhTPdR5YsY0w",
        "outputId": "755a9557-ff24-4f24-9120-41194f125cec"
      },
      "execution_count": 26,
      "outputs": [
        {
          "output_type": "stream",
          "name": "stdout",
          "text": [
            "Перетворений 1D-масив на 2D-масив:\n",
            " [[0 1 2 3 4]\n",
            " [5 6 7 8 9]]\n"
          ]
        }
      ]
    },
    {
      "cell_type": "markdown",
      "source": [
        "# Додаткове завдання 3: Вертикальне складання масивів"
      ],
      "metadata": {
        "id": "0tUmlDGWsag6"
      }
    },
    {
      "cell_type": "code",
      "source": [
        "a = np.random.randint(1, 11, size=(2, 2))\n",
        "b = np.random.randint(1, 11, size=(2, 2))\n",
        "vertical_stack = np.vstack((a, b))\n",
        "print(\"Вертикально складені масиви:\\n\", vertical_stack)"
      ],
      "metadata": {
        "colab": {
          "base_uri": "https://localhost:8080/"
        },
        "id": "NkLhh5r9sckK",
        "outputId": "292918e3-b7fa-4490-9c33-0189fe47cfff"
      },
      "execution_count": 25,
      "outputs": [
        {
          "output_type": "stream",
          "name": "stdout",
          "text": [
            "Вертикально складені масиви:\n",
            " [[4 8]\n",
            " [2 2]\n",
            " [8 8]\n",
            " [1 3]]\n"
          ]
        }
      ]
    },
    {
      "cell_type": "markdown",
      "source": [
        "# Додаткове завдання 4: Створення шаблону без жорсткого кодування"
      ],
      "metadata": {
        "id": "NW7YzZzZse5f"
      }
    },
    {
      "cell_type": "code",
      "source": [
        "a = np.array([1, 2, 3])\n",
        "output = np.hstack((np.repeat(a, 3), np.tile(a, 3)))\n",
        "print(\"Шаблон без жорсткого кодування:\\n\", output)"
      ],
      "metadata": {
        "colab": {
          "base_uri": "https://localhost:8080/"
        },
        "id": "G2TuPvLusg9L",
        "outputId": "36b7e182-17b4-45b3-ef57-22dfe650eecf"
      },
      "execution_count": 24,
      "outputs": [
        {
          "output_type": "stream",
          "name": "stdout",
          "text": [
            "Шаблон без жорсткого кодування:\n",
            " [1 1 1 2 2 2 3 3 3 1 2 3 1 2 3 1 2 3]\n"
          ]
        }
      ]
    },
    {
      "cell_type": "markdown",
      "source": [
        "# Додаткове завдання 5: Спільні елементи між a і b"
      ],
      "metadata": {
        "id": "y8iOA0gvsiu2"
      }
    },
    {
      "cell_type": "code",
      "source": [
        "a = np.array([1, 2, 3, 2, 3, 4, 3, 4, 5, 6])\n",
        "b = np.array([7, 2, 10, 2, 7, 4, 9, 4, 9, 8])\n",
        "common_elements = np.intersect1d(a, b)\n",
        "print(\"Спільні елементи між a і b:\", common_elements)"
      ],
      "metadata": {
        "colab": {
          "base_uri": "https://localhost:8080/"
        },
        "id": "4GNyUrZPskNX",
        "outputId": "8ebf43bf-9ffe-49b3-89f9-216b3e1ecd7a"
      },
      "execution_count": 23,
      "outputs": [
        {
          "output_type": "stream",
          "name": "stdout",
          "text": [
            "Спільні елементи між a і b: [2 4]\n"
          ]
        }
      ]
    },
    {
      "cell_type": "markdown",
      "source": [
        "# Додаткове завдання 6: Позиції перших 5 максимальних значень"
      ],
      "metadata": {
        "id": "tdhkhdX7sld1"
      }
    },
    {
      "cell_type": "code",
      "source": [
        "np.random.seed(100)\n",
        "a = np.random.uniform(1, 50, 20)\n",
        "indices_of_max_5 = np.argsort(a)[-5:][::-1]\n",
        "print(\"Позиції перших 5 максимальних значень у масиві a:\", indices_of_max_5)\n"
      ],
      "metadata": {
        "colab": {
          "base_uri": "https://localhost:8080/"
        },
        "id": "KD3ALZuZsmpF",
        "outputId": "6c004c39-95ef-46ba-aa36-7b9cd0465b51"
      },
      "execution_count": 27,
      "outputs": [
        {
          "output_type": "stream",
          "name": "stdout",
          "text": [
            "Позиції перших 5 максимальних значень у масиві a: [15 10  3  7 18]\n"
          ]
        }
      ]
    },
    {
      "cell_type": "markdown",
      "source": [
        "# Додаткове завдання 7: Вилучення NaN значень з масиву"
      ],
      "metadata": {
        "id": "MS7D7qsYs3RS"
      }
    },
    {
      "cell_type": "code",
      "source": [
        "a = np.array([1, 2, 3, np.nan, 5, 6, 7, np.nan])\n",
        "a_no_nan = a[~np.isnan(a)]\n",
        "print(\"Масив без NaN значень:\", a_no_nan)"
      ],
      "metadata": {
        "colab": {
          "base_uri": "https://localhost:8080/"
        },
        "id": "33gTRRKJs4-I",
        "outputId": "5b30582e-fe55-46f7-faa9-cbc1c474092d"
      },
      "execution_count": 28,
      "outputs": [
        {
          "output_type": "stream",
          "name": "stdout",
          "text": [
            "Масив без NaN значень: [1. 2. 3. 5. 6. 7.]\n"
          ]
        }
      ]
    },
    {
      "cell_type": "markdown",
      "source": [
        "# Додаткове завдання 8: Евклідова відстань між двома масивами"
      ],
      "metadata": {
        "id": "IWOrYwvFs6uq"
      }
    },
    {
      "cell_type": "code",
      "source": [
        "a = np.array([1, 2, 3, 4, 5])\n",
        "b = np.array([4, 5, 6, 7, 8])\n",
        "euclidean_distance = np.linalg.norm(a - b)\n",
        "print(\"Евклідова відстань між масивами a і b:\", euclidean_distance)"
      ],
      "metadata": {
        "colab": {
          "base_uri": "https://localhost:8080/"
        },
        "id": "gPN_PLmAs8Qn",
        "outputId": "971a6b66-5f36-458b-c484-5ef14ba998c2"
      },
      "execution_count": 30,
      "outputs": [
        {
          "output_type": "stream",
          "name": "stdout",
          "text": [
            "Евклідова відстань між масивами a і b: 6.708203932499369\n"
          ]
        }
      ]
    },
    {
      "cell_type": "markdown",
      "source": [
        "# Додаткове завдання 9: Індекс 5-го повторення числа 1"
      ],
      "metadata": {
        "id": "nmr-kdVss9si"
      }
    },
    {
      "cell_type": "code",
      "source": [
        "x = np.array([1, 2, 1, 1, 3, 4, 3, 1, 1, 2, 1, 1, 2])\n",
        "index_5th_one = np.where(x == 1)[0][4]\n",
        "print(\"Індекс 5-го повторення числа 1 у масиві x:\", index_5th_one)"
      ],
      "metadata": {
        "colab": {
          "base_uri": "https://localhost:8080/"
        },
        "id": "jofRc--Us--W",
        "outputId": "28cffe0e-e932-44b6-9763-e7c6b6b81605"
      },
      "execution_count": 29,
      "outputs": [
        {
          "output_type": "stream",
          "name": "stdout",
          "text": [
            "Індекс 5-го повторення числа 1 у масиві x: 8\n"
          ]
        }
      ]
    },
    {
      "cell_type": "markdown",
      "source": [
        "# Додаткове завдання 10: Позначення повторюваних записів у масиві"
      ],
      "metadata": {
        "id": "Il-X06CatFF1"
      }
    },
    {
      "cell_type": "code",
      "source": [
        "np.random.seed(100)\n",
        "a = np.random.randint(0, 5, 10)\n",
        "unique, counts = np.unique(a, return_counts=True)\n",
        "repeats = np.isin(a, unique[counts > 1])\n",
        "repeats[np.where(repeats)[0][::2]] = False\n",
        "print(\"Позначення повторюваних записів у масиві a:\", repeats)"
      ],
      "metadata": {
        "colab": {
          "base_uri": "https://localhost:8080/"
        },
        "id": "3q30qSkTtHja",
        "outputId": "60abbfae-7923-4b88-b365-c5022766e0db"
      },
      "execution_count": 33,
      "outputs": [
        {
          "output_type": "stream",
          "name": "stdout",
          "text": [
            "Позначення повторюваних записів у масиві a: [False  True False False  True False False  True False  True]\n"
          ]
        }
      ]
    }
  ]
}