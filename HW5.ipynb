{
  "nbformat": 4,
  "nbformat_minor": 0,
  "metadata": {
    "colab": {
      "provenance": []
    },
    "kernelspec": {
      "name": "python3",
      "display_name": "Python 3"
    },
    "language_info": {
      "name": "python"
    }
  },
  "cells": [
    {
      "cell_type": "code",
      "execution_count": 1,
      "metadata": {
        "id": "5R9WZXVTpMp4"
      },
      "outputs": [],
      "source": [
        "import pandas as pd\n",
        "import numpy as np\n",
        "from sklearn.model_selection import train_test_split\n",
        "from sklearn.preprocessing import StandardScaler\n",
        "from sklearn.metrics import classification_report\n",
        "from sklearn.svm import SVC\n",
        "from sklearn.ensemble import RandomForestClassifier"
      ]
    },
    {
      "cell_type": "code",
      "source": [
        "url = \"/content/combined_data.csv\"\n",
        "general_data = pd.read_csv(url)"
      ],
      "metadata": {
        "id": "cw-svwJ6vgJi"
      },
      "execution_count": 2,
      "outputs": []
    },
    {
      "cell_type": "code",
      "source": [
        "X = general_data[['accelerometer_X', 'accelerometer_Y', 'accelerometer_Z']]\n",
        "y = general_data['activity']"
      ],
      "metadata": {
        "id": "Xb0dV8N-v-bP"
      },
      "execution_count": 3,
      "outputs": []
    },
    {
      "cell_type": "code",
      "source": [
        "def create_time_domain_features(segment):\n",
        "    features = {}\n",
        "    features['mean'] = np.mean(segment)\n",
        "    features['std'] = np.std(segment)\n",
        "    features['max'] = np.max(segment)\n",
        "    features['min'] = np.min(segment)\n",
        "    return features"
      ],
      "metadata": {
        "id": "QY2XdjZ8fqcV"
      },
      "execution_count": 4,
      "outputs": []
    },
    {
      "cell_type": "code",
      "source": [
        "def extract_features(data, window_size=208, step_size=4):\n",
        "    segments = []\n",
        "    labels = []\n",
        "    for start in range(0, len(data) - window_size, step_size):\n",
        "        end = start + window_size\n",
        "        segment = data.iloc[start:end]\n",
        "        label = data['activity'].iloc[start:end].mode()[0]\n",
        "        features = {}\n",
        "        for column in ['accelerometer_X', 'accelerometer_Y', 'accelerometer_Z']:\n",
        "            column_features = create_time_domain_features(segment[column])\n",
        "            for key in column_features:\n",
        "                features[f'{column}_{key}'] = column_features[key]\n",
        "        segments.append(features)\n",
        "        labels.append(label)\n",
        "    return pd.DataFrame(segments), labels"
      ],
      "metadata": {
        "id": "VS78gp0IfrVo"
      },
      "execution_count": 5,
      "outputs": []
    },
    {
      "cell_type": "code",
      "source": [
        "window_size = 208\n",
        "step_size = 4\n",
        "X, y = extract_features(general_data, window_size, step_size)"
      ],
      "metadata": {
        "id": "-zKCT6w7ftqG"
      },
      "execution_count": 7,
      "outputs": []
    },
    {
      "cell_type": "code",
      "source": [
        "X_train, X_test, y_train, y_test = train_test_split(X, y, test_size=0.3, random_state=42)"
      ],
      "metadata": {
        "id": "oyPogFbKgOEh"
      },
      "execution_count": 8,
      "outputs": []
    },
    {
      "cell_type": "code",
      "source": [
        "scaler = StandardScaler()\n",
        "X_train = scaler.fit_transform(X_train)\n",
        "X_test = scaler.transform(X_test)"
      ],
      "metadata": {
        "id": "3pA4fvsWgQfu"
      },
      "execution_count": 9,
      "outputs": []
    },
    {
      "cell_type": "code",
      "source": [
        "svm_model = SVC()\n",
        "svm_model.fit(X_train, y_train)\n",
        "svm_predictions = svm_model.predict(X_test)"
      ],
      "metadata": {
        "id": "lt0UxEqrgUJk"
      },
      "execution_count": 10,
      "outputs": []
    },
    {
      "cell_type": "code",
      "source": [
        "rf_model = RandomForestClassifier()\n",
        "rf_model.fit(X_train, y_train)\n",
        "rf_predictions = rf_model.predict(X_test)"
      ],
      "metadata": {
        "id": "9SmWQJQZgVwL"
      },
      "execution_count": 11,
      "outputs": []
    },
    {
      "cell_type": "code",
      "source": [
        "print(\"SVM Classification Report\")\n",
        "print(classification_report(y_test, svm_predictions))\n",
        "\n",
        "print(\"Random Forest Classification Report\")\n",
        "print(classification_report(y_test, rf_predictions))"
      ],
      "metadata": {
        "colab": {
          "base_uri": "https://localhost:8080/"
        },
        "id": "kvgMilcGga_l",
        "outputId": "edd1472e-93b2-465d-827a-5b2f06b9c854"
      },
      "execution_count": 12,
      "outputs": [
        {
          "output_type": "stream",
          "name": "stdout",
          "text": [
            "SVM Classification Report\n",
            "              precision    recall  f1-score   support\n",
            "\n",
            "        idle       1.00      1.00      1.00      2371\n",
            "     running       1.00      1.00      1.00      7647\n",
            "      stairs       1.00      1.00      1.00       366\n",
            "     walking       1.00      1.00      1.00      4140\n",
            "\n",
            "    accuracy                           1.00     14524\n",
            "   macro avg       1.00      1.00      1.00     14524\n",
            "weighted avg       1.00      1.00      1.00     14524\n",
            "\n",
            "Random Forest Classification Report\n",
            "              precision    recall  f1-score   support\n",
            "\n",
            "        idle       1.00      1.00      1.00      2371\n",
            "     running       1.00      1.00      1.00      7647\n",
            "      stairs       1.00      1.00      1.00       366\n",
            "     walking       1.00      1.00      1.00      4140\n",
            "\n",
            "    accuracy                           1.00     14524\n",
            "   macro avg       1.00      1.00      1.00     14524\n",
            "weighted avg       1.00      1.00      1.00     14524\n",
            "\n"
          ]
        }
      ]
    }
  ]
}